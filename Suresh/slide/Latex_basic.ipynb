{
 "cells": [
  {
   "cell_type": "markdown",
   "metadata": {
    "slideshow": {
     "slide_type": "slide"
    }
   },
   "source": [
    "\n",
    "### Latex Workshop\n",
    "##### Lecture \\# 1 : <font color=\"red\">Basics of Latex</font>\n",
    "Suresh Kumarasamy <br>\n",
    "DS Kothari Postdoc Fellow <br>\n",
    "University of Delhi <br>\n"
   ]
  },
  {
   "cell_type": "markdown",
   "metadata": {
    "slideshow": {
     "slide_type": "slide"
    }
   },
   "source": [
    "##### History behind <b>LaTeX</b>\n"
   ]
  },
  {
   "cell_type": "markdown",
   "metadata": {
    "slideshow": {
     "slide_type": "fragment"
    }
   },
   "source": [
    "-  project was started in 1978 by Donald E. Knuth (University of Stanford) <br>"
   ]
  },
  {
   "cell_type": "markdown",
   "metadata": {
    "slideshow": {
     "slide_type": "fragment"
    }
   },
   "source": [
    "<small>\n",
    "- Second volume of his Art of Computer Programming. </small> <br>\n",
    "<a href=\"https://github.com/djtrack16/thyme/blob/master/computer%20science/Donald.E.Knuth.The.Art.of.Computer.Programming.Volume.2.pdf\">github link</a>\n",
    "\n",
    "<a href=\"https://en.wikipedia.org/wiki/TeX\">Tex</a>\n"
   ]
  },
  {
   "cell_type": "markdown",
   "metadata": {
    "slideshow": {
     "slide_type": "slide"
    }
   },
   "source": [
    "#### A powerful Typesetting system\n"
   ]
  },
  {
   "cell_type": "markdown",
   "metadata": {
    "slideshow": {
     "slide_type": "fragment"
    }
   },
   "source": [
    "- Input for **LaTeX** is composed in plain ASCII using a text editor"
   ]
  },
  {
   "cell_type": "markdown",
   "metadata": {
    "slideshow": {
     "slide_type": "fragment"
    }
   },
   "source": [
    "-  Eventhough Word is useful for writing very short and simple documents, it becomes complex or even unusable for more complicated tasks"
   ]
  },
  {
   "cell_type": "markdown",
   "metadata": {
    "slideshow": {
     "slide_type": "fragment"
    }
   },
   "source": [
    "-  Commonly needed features, like user-customized automated numbering or various automated indexes, cannot be created easily in Word \n"
   ]
  },
  {
   "cell_type": "markdown",
   "metadata": {
    "slideshow": {
     "slide_type": "fragment"
    }
   },
   "source": [
    "- *LaTeX* requires more effort and time to learn for simpler tasks, but once learned, difficult tasks can be accomplished rather easily and straightforwardly"
   ]
  },
  {
   "cell_type": "markdown",
   "metadata": {
    "slideshow": {
     "slide_type": "slide"
    }
   },
   "source": [
    "##### Comparison \n",
    "- *LaTeX* has a greater learning curve \n",
    "- Many tasks are very tedious and difficult in MS Word or Libre Office\n",
    "<img src=\"compare.jpg\" width=\"40%\">"
   ]
  },
  {
   "cell_type": "markdown",
   "metadata": {
    "slideshow": {
     "slide_type": "slide"
    }
   },
   "source": [
    "#### The reasons to use LaTex"
   ]
  },
  {
   "cell_type": "markdown",
   "metadata": {
    "slideshow": {
     "slide_type": "fragment"
    }
   },
   "source": [
    "\n",
    "- We can do typesetting of mathematical formulae in a convenient way\n",
    "- Users only need to learn a few easy-to-understand commands that specify the logical structure of a document \n",
    "- Never need to tinker with the actual layout of the document \n",
    "- Complex structures such as footnotes, references, table of contents, and bibliographies can be generated easily\n",
    "-  **LaTeX** encourages authors to write well-structured texts, because this is how **LaTeX** works: by specifying structure\n",
    "\n"
   ]
  },
  {
   "cell_type": "markdown",
   "metadata": {
    "slideshow": {
     "slide_type": "slide"
    }
   },
   "source": [
    "#### How LaTex Works "
   ]
  },
  {
   "cell_type": "markdown",
   "metadata": {},
   "source": [
    "- First step is that *LaTeX* reads, usually called the **tex** file or the input file, using a simple text editor and saved in ASCII mode."
   ]
  },
  {
   "cell_type": "markdown",
   "metadata": {
    "slideshow": {
     "slide_type": "fragment"
    }
   },
   "source": [
    "- The TEX program then reads your input file and produces a **DVI file** (Device Independent). The DVI file is then read by another program (called a device driver) which produces the output that is readable by humans. Why the extra file? "
   ]
  },
  {
   "cell_type": "markdown",
   "metadata": {
    "slideshow": {
     "slide_type": "fragment"
    }
   },
   "source": [
    "- Because this DVI file can be read by different device drivers to produce output on a *dot matrix printer, a laser printer, a screen viewer, or a phototypesetter*."
   ]
  },
  {
   "cell_type": "markdown",
   "metadata": {
    "slideshow": {
     "slide_type": "fragment"
    }
   },
   "source": [
    "- Once you have produced a DVI file that gives the right output on, say, a screen viewer, you can be assured that you will get exactly the same output on a laser printer without running the TEX program again."
   ]
  },
  {
   "cell_type": "markdown",
   "metadata": {
    "slideshow": {
     "slide_type": "slide"
    }
   },
   "source": [
    "### Input file structure"
   ]
  },
  {
   "cell_type": "markdown",
   "metadata": {
    "slideshow": {
     "slide_type": "fragment"
    }
   },
   "source": [
    "*LaTeX* processes an input file, it expects it to follow a certain structure.\n",
    "- Every input file should start with the command <br>\n",
    "- <font color=\"green\"> **\\documentclass{...}** </font><br>\n",
    "- This specifies what sort of document you intend to write. \n",
    "- After that, add commands to influence the style of the whole document, or load packages that add new features to the *LaTeX* system. To load such a package you use the command <br>\n",
    "- <font color=\"blue\"> **\\usepackage{...}** </font>\n",
    "- If the *documentclass* and *usepackage* are set then the work is done. Now you can start the body of the text with the command <br>\n",
    "- <font color=\"red\"> **\\begin {document}** </font> <br>\n",
    "     Now you enter the text mixed with some useful *LaTeX* commands. At the end of the document you add the\n",
    "- <font color=\"red\"> **\\end{document}** </font> command, which tells *LaTeX* to end the document. Anything that follows this command will be ignored by *LaTeX*"
   ]
  },
  {
   "cell_type": "markdown",
   "metadata": {
    "slideshow": {
     "slide_type": "slide"
    }
   },
   "source": [
    "### Document Classes"
   ]
  },
  {
   "cell_type": "markdown",
   "metadata": {
    "slideshow": {
     "slide_type": "-"
    }
   },
   "source": [
    "- The first thing that *LaTeX* needs to know is the type of document the author wants to create. \n",
    "- This is specified with the <font color=\"green\"> **\\documentclass[options]{class}** </font> command\n",
    "- Here class specifies the type of document to be created. \n",
    "- The options parameter customizes the behaviour of the document class. The options have to be separated by commas. <br>\n",
    "Example: <font color=\"green\"> **\\documentclass[11pt,twoside,a4paper]{article}** </font>\n",
    "- The above commend instructs *LaTeX* to typeset the document as an article with a base font size of eleven points, and to produce a layout suitable for double sided printing on A4 paper. "
   ]
  },
  {
   "cell_type": "markdown",
   "metadata": {
    "slideshow": {
     "slide_type": "slide"
    }
   },
   "source": [
    "### Document Classes"
   ]
  },
  {
   "cell_type": "markdown",
   "metadata": {
    "slideshow": {
     "slide_type": "-"
    }
   },
   "source": [
    "| class \t| description \t|\n",
    "|-\t|:-:\t|\n",
    "| article \t| for articles in scientific journals, presentations,<br>short reports, program documentation, invitations \t|\n",
    "| proc<br>minimal \t| a class for proceedings based on the article class<br>is as small as it can get. It only sets a page size<br>and a base font. It is mainly used for debugging purposes \t|\n",
    "| report \t| for longer reports containing several chapters,<br>small books, Master’s and PhD theses \t|\n",
    "| book \t| for real books \t|\n",
    "| beamer \t| the *LaTeX* version of Powerpoint \t|"
   ]
  },
  {
   "cell_type": "markdown",
   "metadata": {
    "slideshow": {
     "slide_type": "slide"
    }
   },
   "source": [
    "#### Document Class Options"
   ]
  },
  {
   "cell_type": "markdown",
   "metadata": {
    "slideshow": {
     "slide_type": "-"
    }
   },
   "source": [
    "| options \t| description \t|\n",
    "|:-:\t|:-:\t|\n",
    "| 10pt, 11pt,<br>12pt \t| Sets the size of the main font in the document.<br>Default is 10pt \t|\n",
    "| a4paper,<br>letterpaper \t| Defines the paper size. Default is letterpaper.others<br>include a5paper, b5paper, executivepaper, legalpaper \t|\n",
    "| titlepage \t| Specifies whether a new page should be started after the<br>document title or not \t|\n",
    "| notitlepage \t| article class does not start a new page by default,<br>while report and book do \t|\n",
    "| onecolumn,<br>twocolumn \t| Instructs *LaTeX* to typeset the document in one or two columns \t|\n",
    "| landscape \t| Changes the layout of the document to print in landscape mode \t|"
   ]
  },
  {
   "cell_type": "markdown",
   "metadata": {
    "slideshow": {
     "slide_type": "slide"
    }
   },
   "source": [
    "### Add on features"
   ]
  },
  {
   "cell_type": "markdown",
   "metadata": {},
   "source": [
    "- There are some functionalities that you wont be able to do with basic L A TEX \n",
    "- Including graphics, color, ect. requires enhancing capabilities by including packages using the  <font color=\"blue\"> **\\usepackage[options]{package}** </font> command in the preamble of your document \n",
    "- Comprehensive TEX Archive Network (CTAN) is the central source for all packages  \n",
    "www.ctan.org \n",
    "   "
   ]
  }
 ],
 "metadata": {
  "@webio": {
   "lastCommId": null,
   "lastKernelId": null
  },
  "celltoolbar": "Slideshow",
  "kernelspec": {
   "display_name": "Python 3.8.2 64-bit",
   "language": "python",
   "name": "python38264bit5a58cda205fd4d0f89dd8d0ec5d13775"
  },
  "language_info": {
   "codemirror_mode": {
    "name": "ipython",
    "version": 3
   },
   "file_extension": ".py",
   "mimetype": "text/x-python",
   "name": "python",
   "nbconvert_exporter": "python",
   "pygments_lexer": "ipython3",
   "version": "3.8.2"
  },
  "widgets": {
   "application/vnd.jupyter.widget-state+json": {
    "state": {},
    "version_major": 2,
    "version_minor": 0
   }
  }
 },
 "nbformat": 4,
 "nbformat_minor": 4
}
